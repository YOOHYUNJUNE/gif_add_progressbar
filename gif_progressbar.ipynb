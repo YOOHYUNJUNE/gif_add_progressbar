{
 "cells": [
  {
   "cell_type": "code",
   "execution_count": null,
   "metadata": {},
   "outputs": [],
   "source": [
    "pip install pillow imageio"
   ]
  },
  {
   "cell_type": "code",
   "execution_count": 2,
   "metadata": {},
   "outputs": [],
   "source": [
    "from PIL import Image, ImageDraw\n",
    "import imageio"
   ]
  },
  {
   "cell_type": "code",
   "execution_count": null,
   "metadata": {},
   "outputs": [
    {
     "name": "stdout",
     "output_type": "stream",
     "text": [
      "Processed: C:/Users/rnlay/Desktop/costcook/costcook_시연영상/gif/old_gif\\검색.gif -> C:/Users/rnlay/Desktop/costcook/costcook_시연영상/gif/new_gif\\검색_with_progress.gif\n",
      "Processed: C:/Users/rnlay/Desktop/costcook/costcook_시연영상/gif/old_gif\\관리자_레시피등록.gif -> C:/Users/rnlay/Desktop/costcook/costcook_시연영상/gif/new_gif\\관리자_레시피등록_with_progress.gif\n",
      "Processed: C:/Users/rnlay/Desktop/costcook/costcook_시연영상/gif/old_gif\\관리자_레시피수정,삭제.gif -> C:/Users/rnlay/Desktop/costcook/costcook_시연영상/gif/new_gif\\관리자_레시피수정,삭제_with_progress.gif\n",
      "Processed: C:/Users/rnlay/Desktop/costcook/costcook_시연영상/gif/old_gif\\레시피추천.gif -> C:/Users/rnlay/Desktop/costcook/costcook_시연영상/gif/new_gif\\레시피추천_with_progress.gif\n",
      "Processed: C:/Users/rnlay/Desktop/costcook/costcook_시연영상/gif/old_gif\\리뷰.gif -> C:/Users/rnlay/Desktop/costcook/costcook_시연영상/gif/new_gif\\리뷰_with_progress.gif\n",
      "Processed: C:/Users/rnlay/Desktop/costcook/costcook_시연영상/gif/old_gif\\예산관리.gif -> C:/Users/rnlay/Desktop/costcook/costcook_시연영상/gif/new_gif\\예산관리_with_progress.gif\n",
      "Processed: C:/Users/rnlay/Desktop/costcook/costcook_시연영상/gif/old_gif\\즐겨찾기.gif -> C:/Users/rnlay/Desktop/costcook/costcook_시연영상/gif/new_gif\\즐겨찾기_with_progress.gif\n"
     ]
    }
   ],
   "source": [
    "# 진행바 추가 함수\n",
    "\n",
    "def add_progress_bar_to_gif(input_path, output_path):\n",
    "    # GIF 파일 열기\n",
    "    gif = Image.open(input_path)\n",
    "    frames = []\n",
    "    \n",
    "    # 각 프레임마다 진행바 추가\n",
    "    for i in range(gif.n_frames):\n",
    "        gif.seek(i)\n",
    "        frame = gif.copy().convert(\"RGBA\")\n",
    "        \n",
    "        # 진행 퍼센트 계산\n",
    "        progress = (i + 1) / gif.n_frames\n",
    "        \n",
    "        # 진행바 그리기\n",
    "        bar_height = 8  # 진행바의 높이\n",
    "        bar_width = int(frame.width * progress)  # 진행 바 너비 (프레임 너비에 비례)\n",
    "        \n",
    "        draw = ImageDraw.Draw(frame)\n",
    "        draw.rectangle([0, frame.height - bar_height, bar_width, frame.height], fill=\"gray\")\n",
    "        \n",
    "        # 처리한 프레임을 저장\n",
    "        frames.append(frame)\n",
    "    \n",
    "    # 새 GIF 저장\n",
    "    frames[0].save(\n",
    "        output_path,\n",
    "        save_all=True,\n",
    "        append_images=frames[1:],\n",
    "        duration=gif.info['duration'],\n",
    "        loop=0\n",
    "    )\n",
    "\n",
    "def process_gif_folder(input_folder, output_folder):\n",
    "    # 폴더 내 모든 파일을 탐색\n",
    "    for filename in os.listdir(input_folder):\n",
    "        # 파일이 GIF인지 확인\n",
    "        if filename.lower().endswith(\".gif\"):\n",
    "            input_path = os.path.join(input_folder, filename)\n",
    "            \n",
    "            # output 파일명 설정 (원본 파일명 + \"_with_progress\")\n",
    "            output_filename = filename.replace(\".gif\", \"_with_progress.gif\")\n",
    "            output_path = os.path.join(output_folder, output_filename)\n",
    "            \n",
    "            # 진행바 추가 함수 호출\n",
    "            add_progress_bar_to_gif(input_path, output_path)\n",
    "            print(f\"Processed: {input_path} -> {output_path}\")\n",
    "\n",
    "# 폴더 경로 지정\n",
    "input_folder = \"old_gif의 경로로 지정해주세요.\"\n",
    "output_folder = \"new_gif의 경로로 지정해주세요.\"\n",
    "\n",
    "# 지정된 폴더에서 모든 GIF 파일에 진행바 추가\n",
    "process_gif_folder(input_folder, output_folder)\n"
   ]
  },
  {
   "cell_type": "code",
   "execution_count": null,
   "metadata": {},
   "outputs": [],
   "source": []
  },
  {
   "cell_type": "code",
   "execution_count": null,
   "metadata": {},
   "outputs": [],
   "source": []
  },
  {
   "cell_type": "code",
   "execution_count": null,
   "metadata": {},
   "outputs": [],
   "source": []
  },
  {
   "cell_type": "code",
   "execution_count": null,
   "metadata": {},
   "outputs": [],
   "source": []
  }
 ],
 "metadata": {
  "kernelspec": {
   "display_name": "Python 3",
   "language": "python",
   "name": "python3"
  },
  "language_info": {
   "codemirror_mode": {
    "name": "ipython",
    "version": 3
   },
   "file_extension": ".py",
   "mimetype": "text/x-python",
   "name": "python",
   "nbconvert_exporter": "python",
   "pygments_lexer": "ipython3",
   "version": "3.11.4"
  }
 },
 "nbformat": 4,
 "nbformat_minor": 2
}
